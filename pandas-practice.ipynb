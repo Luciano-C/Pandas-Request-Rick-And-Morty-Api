{
 "cells": [
  {
   "cell_type": "code",
   "execution_count": 132,
   "id": "55279802",
   "metadata": {},
   "outputs": [],
   "source": [
    "import requests\n",
    "import pandas as pd\n",
    "import json\n",
    "import time\n",
    "import numpy as np"
   ]
  },
  {
   "cell_type": "code",
   "execution_count": 133,
   "id": "148bf082",
   "metadata": {},
   "outputs": [],
   "source": [
    "def get_info():\n",
    "    response = requests.get(f\"https://rickandmortyapi.com/api/character/\")\n",
    "    data = response.json()\n",
    "    return {\n",
    "        \"pages\": data[\"info\"][\"pages\"],\n",
    "        \"characters\": data[\"info\"][\"count\"]\n",
    "    }"
   ]
  },
  {
   "cell_type": "code",
   "execution_count": 134,
   "id": "8bac3e1c",
   "metadata": {},
   "outputs": [],
   "source": [
    "info = get_info()\n",
    "number_of_pages = info[\"pages\"]\n",
    "number_of_characters = info[\"characters\"]"
   ]
  },
  {
   "cell_type": "code",
   "execution_count": 135,
   "id": "ca7854da",
   "metadata": {},
   "outputs": [
    {
     "data": {
      "text/plain": [
       "42"
      ]
     },
     "execution_count": 135,
     "metadata": {},
     "output_type": "execute_result"
    }
   ],
   "source": [
    "number_of_pages"
   ]
  },
  {
   "cell_type": "code",
   "execution_count": 136,
   "id": "db39cf72",
   "metadata": {},
   "outputs": [
    {
     "data": {
      "text/plain": [
       "826"
      ]
     },
     "execution_count": 136,
     "metadata": {},
     "output_type": "execute_result"
    }
   ],
   "source": [
    "number_of_characters "
   ]
  },
  {
   "cell_type": "code",
   "execution_count": 137,
   "id": "bada3cfe",
   "metadata": {},
   "outputs": [],
   "source": [
    "# Se usa time.sleep porque la api limita el número de requests.\n",
    "def get_data(number_of_pages):\n",
    "    results = []\n",
    "    for page in range(1, number_of_pages + 1):\n",
    "        time.sleep(1)\n",
    "        response = requests.get(f\"https://rickandmortyapi.com/api/character/?page={page}\")\n",
    "        data = response.json()\n",
    "        results.extend(data[\"results\"])\n",
    "    \n",
    "    return results"
   ]
  },
  {
   "cell_type": "code",
   "execution_count": 138,
   "id": "4babab88",
   "metadata": {},
   "outputs": [],
   "source": [
    "data = get_data(number_of_pages)"
   ]
  },
  {
   "cell_type": "code",
   "execution_count": 139,
   "id": "b4879f7b",
   "metadata": {},
   "outputs": [
    {
     "data": {
      "text/plain": [
       "True"
      ]
     },
     "execution_count": 139,
     "metadata": {},
     "output_type": "execute_result"
    }
   ],
   "source": [
    "len(data) == number_of_characters"
   ]
  },
  {
   "cell_type": "markdown",
   "id": "903e5972",
   "metadata": {},
   "source": [
    "<p><strong>Se confirma que se obtuvo todos los personajes</strong></p>"
   ]
  },
  {
   "cell_type": "code",
   "execution_count": 140,
   "id": "e9585baa",
   "metadata": {},
   "outputs": [],
   "source": [
    "json_data = json.dumps(data)"
   ]
  },
  {
   "cell_type": "code",
   "execution_count": 141,
   "id": "8fec7bbe",
   "metadata": {},
   "outputs": [],
   "source": [
    "rm_df = pd.read_json(json_data)"
   ]
  },
  {
   "cell_type": "code",
   "execution_count": 142,
   "id": "5fb20b57",
   "metadata": {},
   "outputs": [
    {
     "data": {
      "text/html": [
       "<div>\n",
       "<style scoped>\n",
       "    .dataframe tbody tr th:only-of-type {\n",
       "        vertical-align: middle;\n",
       "    }\n",
       "\n",
       "    .dataframe tbody tr th {\n",
       "        vertical-align: top;\n",
       "    }\n",
       "\n",
       "    .dataframe thead th {\n",
       "        text-align: right;\n",
       "    }\n",
       "</style>\n",
       "<table border=\"1\" class=\"dataframe\">\n",
       "  <thead>\n",
       "    <tr style=\"text-align: right;\">\n",
       "      <th></th>\n",
       "      <th>id</th>\n",
       "      <th>name</th>\n",
       "      <th>status</th>\n",
       "      <th>species</th>\n",
       "      <th>type</th>\n",
       "      <th>gender</th>\n",
       "      <th>origin</th>\n",
       "      <th>location</th>\n",
       "      <th>image</th>\n",
       "      <th>episode</th>\n",
       "      <th>url</th>\n",
       "      <th>created</th>\n",
       "    </tr>\n",
       "  </thead>\n",
       "  <tbody>\n",
       "    <tr>\n",
       "      <th>0</th>\n",
       "      <td>1</td>\n",
       "      <td>Rick Sanchez</td>\n",
       "      <td>Alive</td>\n",
       "      <td>Human</td>\n",
       "      <td></td>\n",
       "      <td>Male</td>\n",
       "      <td>{'name': 'Earth (C-137)', 'url': 'https://rick...</td>\n",
       "      <td>{'name': 'Citadel of Ricks', 'url': 'https://r...</td>\n",
       "      <td>https://rickandmortyapi.com/api/character/avat...</td>\n",
       "      <td>[https://rickandmortyapi.com/api/episode/1, ht...</td>\n",
       "      <td>https://rickandmortyapi.com/api/character/1</td>\n",
       "      <td>2017-11-04T18:48:46.250Z</td>\n",
       "    </tr>\n",
       "    <tr>\n",
       "      <th>1</th>\n",
       "      <td>2</td>\n",
       "      <td>Morty Smith</td>\n",
       "      <td>Alive</td>\n",
       "      <td>Human</td>\n",
       "      <td></td>\n",
       "      <td>Male</td>\n",
       "      <td>{'name': 'unknown', 'url': ''}</td>\n",
       "      <td>{'name': 'Citadel of Ricks', 'url': 'https://r...</td>\n",
       "      <td>https://rickandmortyapi.com/api/character/avat...</td>\n",
       "      <td>[https://rickandmortyapi.com/api/episode/1, ht...</td>\n",
       "      <td>https://rickandmortyapi.com/api/character/2</td>\n",
       "      <td>2017-11-04T18:50:21.651Z</td>\n",
       "    </tr>\n",
       "    <tr>\n",
       "      <th>2</th>\n",
       "      <td>3</td>\n",
       "      <td>Summer Smith</td>\n",
       "      <td>Alive</td>\n",
       "      <td>Human</td>\n",
       "      <td></td>\n",
       "      <td>Female</td>\n",
       "      <td>{'name': 'Earth (Replacement Dimension)', 'url...</td>\n",
       "      <td>{'name': 'Earth (Replacement Dimension)', 'url...</td>\n",
       "      <td>https://rickandmortyapi.com/api/character/avat...</td>\n",
       "      <td>[https://rickandmortyapi.com/api/episode/6, ht...</td>\n",
       "      <td>https://rickandmortyapi.com/api/character/3</td>\n",
       "      <td>2017-11-04T19:09:56.428Z</td>\n",
       "    </tr>\n",
       "    <tr>\n",
       "      <th>3</th>\n",
       "      <td>4</td>\n",
       "      <td>Beth Smith</td>\n",
       "      <td>Alive</td>\n",
       "      <td>Human</td>\n",
       "      <td></td>\n",
       "      <td>Female</td>\n",
       "      <td>{'name': 'Earth (Replacement Dimension)', 'url...</td>\n",
       "      <td>{'name': 'Earth (Replacement Dimension)', 'url...</td>\n",
       "      <td>https://rickandmortyapi.com/api/character/avat...</td>\n",
       "      <td>[https://rickandmortyapi.com/api/episode/6, ht...</td>\n",
       "      <td>https://rickandmortyapi.com/api/character/4</td>\n",
       "      <td>2017-11-04T19:22:43.665Z</td>\n",
       "    </tr>\n",
       "    <tr>\n",
       "      <th>4</th>\n",
       "      <td>5</td>\n",
       "      <td>Jerry Smith</td>\n",
       "      <td>Alive</td>\n",
       "      <td>Human</td>\n",
       "      <td></td>\n",
       "      <td>Male</td>\n",
       "      <td>{'name': 'Earth (Replacement Dimension)', 'url...</td>\n",
       "      <td>{'name': 'Earth (Replacement Dimension)', 'url...</td>\n",
       "      <td>https://rickandmortyapi.com/api/character/avat...</td>\n",
       "      <td>[https://rickandmortyapi.com/api/episode/6, ht...</td>\n",
       "      <td>https://rickandmortyapi.com/api/character/5</td>\n",
       "      <td>2017-11-04T19:26:56.301Z</td>\n",
       "    </tr>\n",
       "  </tbody>\n",
       "</table>\n",
       "</div>"
      ],
      "text/plain": [
       "   id          name status species type  gender  \\\n",
       "0   1  Rick Sanchez  Alive   Human         Male   \n",
       "1   2   Morty Smith  Alive   Human         Male   \n",
       "2   3  Summer Smith  Alive   Human       Female   \n",
       "3   4    Beth Smith  Alive   Human       Female   \n",
       "4   5   Jerry Smith  Alive   Human         Male   \n",
       "\n",
       "                                              origin  \\\n",
       "0  {'name': 'Earth (C-137)', 'url': 'https://rick...   \n",
       "1                     {'name': 'unknown', 'url': ''}   \n",
       "2  {'name': 'Earth (Replacement Dimension)', 'url...   \n",
       "3  {'name': 'Earth (Replacement Dimension)', 'url...   \n",
       "4  {'name': 'Earth (Replacement Dimension)', 'url...   \n",
       "\n",
       "                                            location  \\\n",
       "0  {'name': 'Citadel of Ricks', 'url': 'https://r...   \n",
       "1  {'name': 'Citadel of Ricks', 'url': 'https://r...   \n",
       "2  {'name': 'Earth (Replacement Dimension)', 'url...   \n",
       "3  {'name': 'Earth (Replacement Dimension)', 'url...   \n",
       "4  {'name': 'Earth (Replacement Dimension)', 'url...   \n",
       "\n",
       "                                               image  \\\n",
       "0  https://rickandmortyapi.com/api/character/avat...   \n",
       "1  https://rickandmortyapi.com/api/character/avat...   \n",
       "2  https://rickandmortyapi.com/api/character/avat...   \n",
       "3  https://rickandmortyapi.com/api/character/avat...   \n",
       "4  https://rickandmortyapi.com/api/character/avat...   \n",
       "\n",
       "                                             episode  \\\n",
       "0  [https://rickandmortyapi.com/api/episode/1, ht...   \n",
       "1  [https://rickandmortyapi.com/api/episode/1, ht...   \n",
       "2  [https://rickandmortyapi.com/api/episode/6, ht...   \n",
       "3  [https://rickandmortyapi.com/api/episode/6, ht...   \n",
       "4  [https://rickandmortyapi.com/api/episode/6, ht...   \n",
       "\n",
       "                                           url                   created  \n",
       "0  https://rickandmortyapi.com/api/character/1  2017-11-04T18:48:46.250Z  \n",
       "1  https://rickandmortyapi.com/api/character/2  2017-11-04T18:50:21.651Z  \n",
       "2  https://rickandmortyapi.com/api/character/3  2017-11-04T19:09:56.428Z  \n",
       "3  https://rickandmortyapi.com/api/character/4  2017-11-04T19:22:43.665Z  \n",
       "4  https://rickandmortyapi.com/api/character/5  2017-11-04T19:26:56.301Z  "
      ]
     },
     "execution_count": 142,
     "metadata": {},
     "output_type": "execute_result"
    }
   ],
   "source": [
    "rm_df.head()"
   ]
  },
  {
   "cell_type": "code",
   "execution_count": 143,
   "id": "fd74291e",
   "metadata": {},
   "outputs": [],
   "source": [
    "rm_df[\"origin\"] = [elemento[\"name\"] for elemento in rm_df[\"origin\"]]\n",
    "rm_df[\"location\"] = [elemento[\"name\"] for elemento in rm_df[\"location\"]]\n"
   ]
  },
  {
   "cell_type": "code",
   "execution_count": 144,
   "id": "c60c1b8c",
   "metadata": {},
   "outputs": [
    {
     "data": {
      "text/html": [
       "<div>\n",
       "<style scoped>\n",
       "    .dataframe tbody tr th:only-of-type {\n",
       "        vertical-align: middle;\n",
       "    }\n",
       "\n",
       "    .dataframe tbody tr th {\n",
       "        vertical-align: top;\n",
       "    }\n",
       "\n",
       "    .dataframe thead th {\n",
       "        text-align: right;\n",
       "    }\n",
       "</style>\n",
       "<table border=\"1\" class=\"dataframe\">\n",
       "  <thead>\n",
       "    <tr style=\"text-align: right;\">\n",
       "      <th></th>\n",
       "      <th>id</th>\n",
       "      <th>name</th>\n",
       "      <th>status</th>\n",
       "      <th>species</th>\n",
       "      <th>type</th>\n",
       "      <th>gender</th>\n",
       "      <th>origin</th>\n",
       "      <th>location</th>\n",
       "      <th>image</th>\n",
       "      <th>episode</th>\n",
       "      <th>url</th>\n",
       "      <th>created</th>\n",
       "    </tr>\n",
       "  </thead>\n",
       "  <tbody>\n",
       "    <tr>\n",
       "      <th>0</th>\n",
       "      <td>1</td>\n",
       "      <td>Rick Sanchez</td>\n",
       "      <td>Alive</td>\n",
       "      <td>Human</td>\n",
       "      <td></td>\n",
       "      <td>Male</td>\n",
       "      <td>Earth (C-137)</td>\n",
       "      <td>Citadel of Ricks</td>\n",
       "      <td>https://rickandmortyapi.com/api/character/avat...</td>\n",
       "      <td>[https://rickandmortyapi.com/api/episode/1, ht...</td>\n",
       "      <td>https://rickandmortyapi.com/api/character/1</td>\n",
       "      <td>2017-11-04T18:48:46.250Z</td>\n",
       "    </tr>\n",
       "    <tr>\n",
       "      <th>1</th>\n",
       "      <td>2</td>\n",
       "      <td>Morty Smith</td>\n",
       "      <td>Alive</td>\n",
       "      <td>Human</td>\n",
       "      <td></td>\n",
       "      <td>Male</td>\n",
       "      <td>unknown</td>\n",
       "      <td>Citadel of Ricks</td>\n",
       "      <td>https://rickandmortyapi.com/api/character/avat...</td>\n",
       "      <td>[https://rickandmortyapi.com/api/episode/1, ht...</td>\n",
       "      <td>https://rickandmortyapi.com/api/character/2</td>\n",
       "      <td>2017-11-04T18:50:21.651Z</td>\n",
       "    </tr>\n",
       "    <tr>\n",
       "      <th>2</th>\n",
       "      <td>3</td>\n",
       "      <td>Summer Smith</td>\n",
       "      <td>Alive</td>\n",
       "      <td>Human</td>\n",
       "      <td></td>\n",
       "      <td>Female</td>\n",
       "      <td>Earth (Replacement Dimension)</td>\n",
       "      <td>Earth (Replacement Dimension)</td>\n",
       "      <td>https://rickandmortyapi.com/api/character/avat...</td>\n",
       "      <td>[https://rickandmortyapi.com/api/episode/6, ht...</td>\n",
       "      <td>https://rickandmortyapi.com/api/character/3</td>\n",
       "      <td>2017-11-04T19:09:56.428Z</td>\n",
       "    </tr>\n",
       "    <tr>\n",
       "      <th>3</th>\n",
       "      <td>4</td>\n",
       "      <td>Beth Smith</td>\n",
       "      <td>Alive</td>\n",
       "      <td>Human</td>\n",
       "      <td></td>\n",
       "      <td>Female</td>\n",
       "      <td>Earth (Replacement Dimension)</td>\n",
       "      <td>Earth (Replacement Dimension)</td>\n",
       "      <td>https://rickandmortyapi.com/api/character/avat...</td>\n",
       "      <td>[https://rickandmortyapi.com/api/episode/6, ht...</td>\n",
       "      <td>https://rickandmortyapi.com/api/character/4</td>\n",
       "      <td>2017-11-04T19:22:43.665Z</td>\n",
       "    </tr>\n",
       "    <tr>\n",
       "      <th>4</th>\n",
       "      <td>5</td>\n",
       "      <td>Jerry Smith</td>\n",
       "      <td>Alive</td>\n",
       "      <td>Human</td>\n",
       "      <td></td>\n",
       "      <td>Male</td>\n",
       "      <td>Earth (Replacement Dimension)</td>\n",
       "      <td>Earth (Replacement Dimension)</td>\n",
       "      <td>https://rickandmortyapi.com/api/character/avat...</td>\n",
       "      <td>[https://rickandmortyapi.com/api/episode/6, ht...</td>\n",
       "      <td>https://rickandmortyapi.com/api/character/5</td>\n",
       "      <td>2017-11-04T19:26:56.301Z</td>\n",
       "    </tr>\n",
       "  </tbody>\n",
       "</table>\n",
       "</div>"
      ],
      "text/plain": [
       "   id          name status species type  gender  \\\n",
       "0   1  Rick Sanchez  Alive   Human         Male   \n",
       "1   2   Morty Smith  Alive   Human         Male   \n",
       "2   3  Summer Smith  Alive   Human       Female   \n",
       "3   4    Beth Smith  Alive   Human       Female   \n",
       "4   5   Jerry Smith  Alive   Human         Male   \n",
       "\n",
       "                          origin                       location  \\\n",
       "0                  Earth (C-137)               Citadel of Ricks   \n",
       "1                        unknown               Citadel of Ricks   \n",
       "2  Earth (Replacement Dimension)  Earth (Replacement Dimension)   \n",
       "3  Earth (Replacement Dimension)  Earth (Replacement Dimension)   \n",
       "4  Earth (Replacement Dimension)  Earth (Replacement Dimension)   \n",
       "\n",
       "                                               image  \\\n",
       "0  https://rickandmortyapi.com/api/character/avat...   \n",
       "1  https://rickandmortyapi.com/api/character/avat...   \n",
       "2  https://rickandmortyapi.com/api/character/avat...   \n",
       "3  https://rickandmortyapi.com/api/character/avat...   \n",
       "4  https://rickandmortyapi.com/api/character/avat...   \n",
       "\n",
       "                                             episode  \\\n",
       "0  [https://rickandmortyapi.com/api/episode/1, ht...   \n",
       "1  [https://rickandmortyapi.com/api/episode/1, ht...   \n",
       "2  [https://rickandmortyapi.com/api/episode/6, ht...   \n",
       "3  [https://rickandmortyapi.com/api/episode/6, ht...   \n",
       "4  [https://rickandmortyapi.com/api/episode/6, ht...   \n",
       "\n",
       "                                           url                   created  \n",
       "0  https://rickandmortyapi.com/api/character/1  2017-11-04T18:48:46.250Z  \n",
       "1  https://rickandmortyapi.com/api/character/2  2017-11-04T18:50:21.651Z  \n",
       "2  https://rickandmortyapi.com/api/character/3  2017-11-04T19:09:56.428Z  \n",
       "3  https://rickandmortyapi.com/api/character/4  2017-11-04T19:22:43.665Z  \n",
       "4  https://rickandmortyapi.com/api/character/5  2017-11-04T19:26:56.301Z  "
      ]
     },
     "execution_count": 144,
     "metadata": {},
     "output_type": "execute_result"
    }
   ],
   "source": [
    "rm_df.head()"
   ]
  },
  {
   "cell_type": "code",
   "execution_count": 145,
   "id": "5b8e20b7",
   "metadata": {},
   "outputs": [],
   "source": [
    "rm_df[\"type\"] = np.where(rm_df[\"type\"] == \"\", np.nan, rm_df[\"type\"])"
   ]
  },
  {
   "cell_type": "code",
   "execution_count": 146,
   "id": "ed9070b9",
   "metadata": {},
   "outputs": [
    {
     "data": {
      "text/plain": [
       "id            0\n",
       "name          0\n",
       "status        0\n",
       "species       0\n",
       "type        401\n",
       "gender        0\n",
       "origin        0\n",
       "location      0\n",
       "image         0\n",
       "episode       0\n",
       "url           0\n",
       "created       0\n",
       "dtype: int64"
      ]
     },
     "execution_count": 146,
     "metadata": {},
     "output_type": "execute_result"
    }
   ],
   "source": [
    "rm_df.isna().sum()"
   ]
  },
  {
   "cell_type": "code",
   "execution_count": 147,
   "id": "745f738b",
   "metadata": {},
   "outputs": [],
   "source": [
    "rm_df.drop([\"type\", \"image\", \"url\", \"created\"], axis=1, inplace=True)"
   ]
  },
  {
   "cell_type": "code",
   "execution_count": 148,
   "id": "506142af",
   "metadata": {},
   "outputs": [
    {
     "data": {
      "text/html": [
       "<div>\n",
       "<style scoped>\n",
       "    .dataframe tbody tr th:only-of-type {\n",
       "        vertical-align: middle;\n",
       "    }\n",
       "\n",
       "    .dataframe tbody tr th {\n",
       "        vertical-align: top;\n",
       "    }\n",
       "\n",
       "    .dataframe thead th {\n",
       "        text-align: right;\n",
       "    }\n",
       "</style>\n",
       "<table border=\"1\" class=\"dataframe\">\n",
       "  <thead>\n",
       "    <tr style=\"text-align: right;\">\n",
       "      <th></th>\n",
       "      <th>id</th>\n",
       "      <th>name</th>\n",
       "      <th>status</th>\n",
       "      <th>species</th>\n",
       "      <th>gender</th>\n",
       "      <th>origin</th>\n",
       "      <th>location</th>\n",
       "      <th>episode</th>\n",
       "    </tr>\n",
       "  </thead>\n",
       "  <tbody>\n",
       "    <tr>\n",
       "      <th>0</th>\n",
       "      <td>1</td>\n",
       "      <td>Rick Sanchez</td>\n",
       "      <td>Alive</td>\n",
       "      <td>Human</td>\n",
       "      <td>Male</td>\n",
       "      <td>Earth (C-137)</td>\n",
       "      <td>Citadel of Ricks</td>\n",
       "      <td>[https://rickandmortyapi.com/api/episode/1, ht...</td>\n",
       "    </tr>\n",
       "    <tr>\n",
       "      <th>1</th>\n",
       "      <td>2</td>\n",
       "      <td>Morty Smith</td>\n",
       "      <td>Alive</td>\n",
       "      <td>Human</td>\n",
       "      <td>Male</td>\n",
       "      <td>unknown</td>\n",
       "      <td>Citadel of Ricks</td>\n",
       "      <td>[https://rickandmortyapi.com/api/episode/1, ht...</td>\n",
       "    </tr>\n",
       "    <tr>\n",
       "      <th>2</th>\n",
       "      <td>3</td>\n",
       "      <td>Summer Smith</td>\n",
       "      <td>Alive</td>\n",
       "      <td>Human</td>\n",
       "      <td>Female</td>\n",
       "      <td>Earth (Replacement Dimension)</td>\n",
       "      <td>Earth (Replacement Dimension)</td>\n",
       "      <td>[https://rickandmortyapi.com/api/episode/6, ht...</td>\n",
       "    </tr>\n",
       "    <tr>\n",
       "      <th>3</th>\n",
       "      <td>4</td>\n",
       "      <td>Beth Smith</td>\n",
       "      <td>Alive</td>\n",
       "      <td>Human</td>\n",
       "      <td>Female</td>\n",
       "      <td>Earth (Replacement Dimension)</td>\n",
       "      <td>Earth (Replacement Dimension)</td>\n",
       "      <td>[https://rickandmortyapi.com/api/episode/6, ht...</td>\n",
       "    </tr>\n",
       "    <tr>\n",
       "      <th>4</th>\n",
       "      <td>5</td>\n",
       "      <td>Jerry Smith</td>\n",
       "      <td>Alive</td>\n",
       "      <td>Human</td>\n",
       "      <td>Male</td>\n",
       "      <td>Earth (Replacement Dimension)</td>\n",
       "      <td>Earth (Replacement Dimension)</td>\n",
       "      <td>[https://rickandmortyapi.com/api/episode/6, ht...</td>\n",
       "    </tr>\n",
       "  </tbody>\n",
       "</table>\n",
       "</div>"
      ],
      "text/plain": [
       "   id          name status species  gender                         origin  \\\n",
       "0   1  Rick Sanchez  Alive   Human    Male                  Earth (C-137)   \n",
       "1   2   Morty Smith  Alive   Human    Male                        unknown   \n",
       "2   3  Summer Smith  Alive   Human  Female  Earth (Replacement Dimension)   \n",
       "3   4    Beth Smith  Alive   Human  Female  Earth (Replacement Dimension)   \n",
       "4   5   Jerry Smith  Alive   Human    Male  Earth (Replacement Dimension)   \n",
       "\n",
       "                        location  \\\n",
       "0               Citadel of Ricks   \n",
       "1               Citadel of Ricks   \n",
       "2  Earth (Replacement Dimension)   \n",
       "3  Earth (Replacement Dimension)   \n",
       "4  Earth (Replacement Dimension)   \n",
       "\n",
       "                                             episode  \n",
       "0  [https://rickandmortyapi.com/api/episode/1, ht...  \n",
       "1  [https://rickandmortyapi.com/api/episode/1, ht...  \n",
       "2  [https://rickandmortyapi.com/api/episode/6, ht...  \n",
       "3  [https://rickandmortyapi.com/api/episode/6, ht...  \n",
       "4  [https://rickandmortyapi.com/api/episode/6, ht...  "
      ]
     },
     "execution_count": 148,
     "metadata": {},
     "output_type": "execute_result"
    }
   ],
   "source": [
    "rm_df.head()"
   ]
  },
  {
   "cell_type": "code",
   "execution_count": 149,
   "id": "20478bfb",
   "metadata": {},
   "outputs": [],
   "source": [
    "rm_df.rename({\"episode\": \"number_of_episodes\"}, inplace=True, axis=1)"
   ]
  },
  {
   "cell_type": "code",
   "execution_count": 150,
   "id": "79cbcd4a",
   "metadata": {},
   "outputs": [],
   "source": [
    "rm_df[\"number_of_episodes\"] = [len(elemento) for elemento in rm_df[\"number_of_episodes\"]]"
   ]
  },
  {
   "cell_type": "code",
   "execution_count": 151,
   "id": "1c3a674e",
   "metadata": {},
   "outputs": [
    {
     "data": {
      "text/html": [
       "<div>\n",
       "<style scoped>\n",
       "    .dataframe tbody tr th:only-of-type {\n",
       "        vertical-align: middle;\n",
       "    }\n",
       "\n",
       "    .dataframe tbody tr th {\n",
       "        vertical-align: top;\n",
       "    }\n",
       "\n",
       "    .dataframe thead th {\n",
       "        text-align: right;\n",
       "    }\n",
       "</style>\n",
       "<table border=\"1\" class=\"dataframe\">\n",
       "  <thead>\n",
       "    <tr style=\"text-align: right;\">\n",
       "      <th></th>\n",
       "      <th>id</th>\n",
       "      <th>name</th>\n",
       "      <th>status</th>\n",
       "      <th>species</th>\n",
       "      <th>gender</th>\n",
       "      <th>origin</th>\n",
       "      <th>location</th>\n",
       "      <th>number_of_episodes</th>\n",
       "    </tr>\n",
       "  </thead>\n",
       "  <tbody>\n",
       "    <tr>\n",
       "      <th>0</th>\n",
       "      <td>1</td>\n",
       "      <td>Rick Sanchez</td>\n",
       "      <td>Alive</td>\n",
       "      <td>Human</td>\n",
       "      <td>Male</td>\n",
       "      <td>Earth (C-137)</td>\n",
       "      <td>Citadel of Ricks</td>\n",
       "      <td>51</td>\n",
       "    </tr>\n",
       "    <tr>\n",
       "      <th>1</th>\n",
       "      <td>2</td>\n",
       "      <td>Morty Smith</td>\n",
       "      <td>Alive</td>\n",
       "      <td>Human</td>\n",
       "      <td>Male</td>\n",
       "      <td>unknown</td>\n",
       "      <td>Citadel of Ricks</td>\n",
       "      <td>51</td>\n",
       "    </tr>\n",
       "    <tr>\n",
       "      <th>2</th>\n",
       "      <td>3</td>\n",
       "      <td>Summer Smith</td>\n",
       "      <td>Alive</td>\n",
       "      <td>Human</td>\n",
       "      <td>Female</td>\n",
       "      <td>Earth (Replacement Dimension)</td>\n",
       "      <td>Earth (Replacement Dimension)</td>\n",
       "      <td>42</td>\n",
       "    </tr>\n",
       "    <tr>\n",
       "      <th>3</th>\n",
       "      <td>4</td>\n",
       "      <td>Beth Smith</td>\n",
       "      <td>Alive</td>\n",
       "      <td>Human</td>\n",
       "      <td>Female</td>\n",
       "      <td>Earth (Replacement Dimension)</td>\n",
       "      <td>Earth (Replacement Dimension)</td>\n",
       "      <td>42</td>\n",
       "    </tr>\n",
       "    <tr>\n",
       "      <th>4</th>\n",
       "      <td>5</td>\n",
       "      <td>Jerry Smith</td>\n",
       "      <td>Alive</td>\n",
       "      <td>Human</td>\n",
       "      <td>Male</td>\n",
       "      <td>Earth (Replacement Dimension)</td>\n",
       "      <td>Earth (Replacement Dimension)</td>\n",
       "      <td>39</td>\n",
       "    </tr>\n",
       "  </tbody>\n",
       "</table>\n",
       "</div>"
      ],
      "text/plain": [
       "   id          name status species  gender                         origin  \\\n",
       "0   1  Rick Sanchez  Alive   Human    Male                  Earth (C-137)   \n",
       "1   2   Morty Smith  Alive   Human    Male                        unknown   \n",
       "2   3  Summer Smith  Alive   Human  Female  Earth (Replacement Dimension)   \n",
       "3   4    Beth Smith  Alive   Human  Female  Earth (Replacement Dimension)   \n",
       "4   5   Jerry Smith  Alive   Human    Male  Earth (Replacement Dimension)   \n",
       "\n",
       "                        location  number_of_episodes  \n",
       "0               Citadel of Ricks                  51  \n",
       "1               Citadel of Ricks                  51  \n",
       "2  Earth (Replacement Dimension)                  42  \n",
       "3  Earth (Replacement Dimension)                  42  \n",
       "4  Earth (Replacement Dimension)                  39  "
      ]
     },
     "execution_count": 151,
     "metadata": {},
     "output_type": "execute_result"
    }
   ],
   "source": [
    "rm_df.head()"
   ]
  },
  {
   "cell_type": "code",
   "execution_count": 152,
   "id": "af67ccdf",
   "metadata": {},
   "outputs": [],
   "source": [
    "rm_df.set_index(\"id\", inplace=True)"
   ]
  },
  {
   "cell_type": "code",
   "execution_count": 153,
   "id": "6c257053",
   "metadata": {},
   "outputs": [
    {
     "data": {
      "text/html": [
       "<div>\n",
       "<style scoped>\n",
       "    .dataframe tbody tr th:only-of-type {\n",
       "        vertical-align: middle;\n",
       "    }\n",
       "\n",
       "    .dataframe tbody tr th {\n",
       "        vertical-align: top;\n",
       "    }\n",
       "\n",
       "    .dataframe thead th {\n",
       "        text-align: right;\n",
       "    }\n",
       "</style>\n",
       "<table border=\"1\" class=\"dataframe\">\n",
       "  <thead>\n",
       "    <tr style=\"text-align: right;\">\n",
       "      <th></th>\n",
       "      <th>name</th>\n",
       "      <th>status</th>\n",
       "      <th>species</th>\n",
       "      <th>gender</th>\n",
       "      <th>origin</th>\n",
       "      <th>location</th>\n",
       "      <th>number_of_episodes</th>\n",
       "    </tr>\n",
       "    <tr>\n",
       "      <th>id</th>\n",
       "      <th></th>\n",
       "      <th></th>\n",
       "      <th></th>\n",
       "      <th></th>\n",
       "      <th></th>\n",
       "      <th></th>\n",
       "      <th></th>\n",
       "    </tr>\n",
       "  </thead>\n",
       "  <tbody>\n",
       "    <tr>\n",
       "      <th>822</th>\n",
       "      <td>Young Jerry</td>\n",
       "      <td>unknown</td>\n",
       "      <td>Human</td>\n",
       "      <td>Male</td>\n",
       "      <td>Earth (Unknown dimension)</td>\n",
       "      <td>Earth (Unknown dimension)</td>\n",
       "      <td>1</td>\n",
       "    </tr>\n",
       "    <tr>\n",
       "      <th>823</th>\n",
       "      <td>Young Beth</td>\n",
       "      <td>unknown</td>\n",
       "      <td>Human</td>\n",
       "      <td>Female</td>\n",
       "      <td>Earth (Unknown dimension)</td>\n",
       "      <td>Earth (Unknown dimension)</td>\n",
       "      <td>1</td>\n",
       "    </tr>\n",
       "    <tr>\n",
       "      <th>824</th>\n",
       "      <td>Young Beth</td>\n",
       "      <td>unknown</td>\n",
       "      <td>Human</td>\n",
       "      <td>Female</td>\n",
       "      <td>Earth (Unknown dimension)</td>\n",
       "      <td>Earth (Unknown dimension)</td>\n",
       "      <td>1</td>\n",
       "    </tr>\n",
       "    <tr>\n",
       "      <th>825</th>\n",
       "      <td>Young Jerry</td>\n",
       "      <td>unknown</td>\n",
       "      <td>Human</td>\n",
       "      <td>Male</td>\n",
       "      <td>Earth (Unknown dimension)</td>\n",
       "      <td>Earth (Unknown dimension)</td>\n",
       "      <td>1</td>\n",
       "    </tr>\n",
       "    <tr>\n",
       "      <th>826</th>\n",
       "      <td>Butter Robot</td>\n",
       "      <td>Alive</td>\n",
       "      <td>Robot</td>\n",
       "      <td>Genderless</td>\n",
       "      <td>Earth (Replacement Dimension)</td>\n",
       "      <td>Earth (Replacement Dimension)</td>\n",
       "      <td>1</td>\n",
       "    </tr>\n",
       "  </tbody>\n",
       "</table>\n",
       "</div>"
      ],
      "text/plain": [
       "             name   status species      gender                         origin  \\\n",
       "id                                                                              \n",
       "822   Young Jerry  unknown   Human        Male      Earth (Unknown dimension)   \n",
       "823    Young Beth  unknown   Human      Female      Earth (Unknown dimension)   \n",
       "824    Young Beth  unknown   Human      Female      Earth (Unknown dimension)   \n",
       "825   Young Jerry  unknown   Human        Male      Earth (Unknown dimension)   \n",
       "826  Butter Robot    Alive   Robot  Genderless  Earth (Replacement Dimension)   \n",
       "\n",
       "                          location  number_of_episodes  \n",
       "id                                                      \n",
       "822      Earth (Unknown dimension)                   1  \n",
       "823      Earth (Unknown dimension)                   1  \n",
       "824      Earth (Unknown dimension)                   1  \n",
       "825      Earth (Unknown dimension)                   1  \n",
       "826  Earth (Replacement Dimension)                   1  "
      ]
     },
     "execution_count": 153,
     "metadata": {},
     "output_type": "execute_result"
    }
   ],
   "source": [
    "rm_df.tail()"
   ]
  },
  {
   "cell_type": "markdown",
   "id": "d87f4124",
   "metadata": {},
   "source": [
    "<h2>Análisis Status</h2>"
   ]
  },
  {
   "cell_type": "code",
   "execution_count": 154,
   "id": "0ad6508a",
   "metadata": {},
   "outputs": [
    {
     "data": {
      "text/plain": [
       "array(['Alive', 'unknown', 'Dead'], dtype=object)"
      ]
     },
     "execution_count": 154,
     "metadata": {},
     "output_type": "execute_result"
    }
   ],
   "source": [
    "rm_df[\"status\"].unique()"
   ]
  },
  {
   "cell_type": "code",
   "execution_count": 155,
   "id": "ca83c8a2",
   "metadata": {},
   "outputs": [],
   "source": [
    "rm_df[\"status\"] = np.where(rm_df[\"status\"] == \"unknown\", \"Unknown\", rm_df[\"status\"])"
   ]
  },
  {
   "cell_type": "code",
   "execution_count": 156,
   "id": "4d2dd724",
   "metadata": {},
   "outputs": [
    {
     "data": {
      "text/plain": [
       "array(['Alive', 'Unknown', 'Dead'], dtype=object)"
      ]
     },
     "execution_count": 156,
     "metadata": {},
     "output_type": "execute_result"
    }
   ],
   "source": [
    "rm_df[\"status\"].unique()"
   ]
  },
  {
   "cell_type": "code",
   "execution_count": 157,
   "id": "8579fbb6",
   "metadata": {},
   "outputs": [
    {
     "name": "stdout",
     "output_type": "stream",
     "text": [
      "Total Alive: 439\n",
      "Total Unknown: 100\n",
      "Total Dead: 287\n"
     ]
    }
   ],
   "source": [
    "for status in rm_df[\"status\"].unique():\n",
    "    total = rm_df[\"status\"][rm_df[\"status\"] == status].count()\n",
    "    print(f\"Total {status}: {total}\")"
   ]
  },
  {
   "cell_type": "markdown",
   "id": "d47c0af5",
   "metadata": {},
   "source": [
    "<h2>Análisis Species</h2>"
   ]
  },
  {
   "cell_type": "code",
   "execution_count": 158,
   "id": "94dc1761",
   "metadata": {},
   "outputs": [
    {
     "data": {
      "text/plain": [
       "array(['Human', 'Alien', 'Humanoid', 'unknown', 'Poopybutthole',\n",
       "       'Mythological Creature', 'Animal', 'Robot', 'Cronenberg',\n",
       "       'Disease'], dtype=object)"
      ]
     },
     "execution_count": 158,
     "metadata": {},
     "output_type": "execute_result"
    }
   ],
   "source": [
    "rm_df[\"species\"].unique()"
   ]
  },
  {
   "cell_type": "code",
   "execution_count": 159,
   "id": "c0224431",
   "metadata": {},
   "outputs": [],
   "source": [
    "rm_df[\"species\"] = np.where(rm_df[\"species\"] == \"unknown\", \"Unknown\", rm_df[\"species\"])"
   ]
  },
  {
   "cell_type": "code",
   "execution_count": 160,
   "id": "dad97227",
   "metadata": {},
   "outputs": [
    {
     "data": {
      "text/plain": [
       "array(['Human', 'Alien', 'Humanoid', 'Unknown', 'Poopybutthole',\n",
       "       'Mythological Creature', 'Animal', 'Robot', 'Cronenberg',\n",
       "       'Disease'], dtype=object)"
      ]
     },
     "execution_count": 160,
     "metadata": {},
     "output_type": "execute_result"
    }
   ],
   "source": [
    "rm_df[\"species\"].unique()"
   ]
  },
  {
   "cell_type": "code",
   "execution_count": 161,
   "id": "5fa8cff0",
   "metadata": {},
   "outputs": [
    {
     "name": "stdout",
     "output_type": "stream",
     "text": [
      "Total Human: 366\n",
      "Total Alien: 205\n",
      "Total Humanoid: 68\n",
      "Total Unknown: 13\n",
      "Total Poopybutthole: 8\n",
      "Total Mythological Creature: 46\n",
      "Total Animal: 55\n",
      "Total Robot: 51\n",
      "Total Cronenberg: 8\n",
      "Total Disease: 6\n"
     ]
    }
   ],
   "source": [
    "for specie in rm_df[\"species\"].unique():\n",
    "    total = rm_df[\"species\"][rm_df[\"species\"] == specie].count()\n",
    "    print(f\"Total {specie}: {total}\")"
   ]
  },
  {
   "cell_type": "markdown",
   "id": "3403f20a",
   "metadata": {},
   "source": [
    "<h1>Análisis Gender</h2>"
   ]
  },
  {
   "cell_type": "code",
   "execution_count": 162,
   "id": "ef5c0480",
   "metadata": {},
   "outputs": [
    {
     "data": {
      "text/plain": [
       "array(['Male', 'Female', 'unknown', 'Genderless'], dtype=object)"
      ]
     },
     "execution_count": 162,
     "metadata": {},
     "output_type": "execute_result"
    }
   ],
   "source": [
    "rm_df[\"gender\"].unique()"
   ]
  },
  {
   "cell_type": "code",
   "execution_count": 163,
   "id": "d7db0553",
   "metadata": {},
   "outputs": [],
   "source": [
    "rm_df[\"gender\"] = np.where(rm_df[\"gender\"] == \"unknown\", \"Unknown\", rm_df[\"gender\"])"
   ]
  },
  {
   "cell_type": "code",
   "execution_count": 164,
   "id": "bda216ef",
   "metadata": {},
   "outputs": [
    {
     "data": {
      "text/plain": [
       "array(['Male', 'Female', 'Unknown', 'Genderless'], dtype=object)"
      ]
     },
     "execution_count": 164,
     "metadata": {},
     "output_type": "execute_result"
    }
   ],
   "source": [
    "rm_df[\"gender\"].unique()"
   ]
  },
  {
   "cell_type": "code",
   "execution_count": 165,
   "id": "c22e591f",
   "metadata": {},
   "outputs": [
    {
     "name": "stdout",
     "output_type": "stream",
     "text": [
      "Total Male: 610\n",
      "Total Female: 148\n",
      "Total Unknown: 49\n",
      "Total Genderless: 19\n"
     ]
    }
   ],
   "source": [
    "for gender in rm_df[\"gender\"].unique():\n",
    "    total = rm_df[\"gender\"][rm_df[\"gender\"] == gender].count()\n",
    "    print(f\"Total {gender}: {total}\")"
   ]
  },
  {
   "cell_type": "markdown",
   "id": "4ddae3b7",
   "metadata": {},
   "source": [
    "<h2>Cuantos están en su lugar de origen</h2>"
   ]
  },
  {
   "cell_type": "code",
   "execution_count": 166,
   "id": "15c05e6e",
   "metadata": {},
   "outputs": [],
   "source": [
    "total = rm_df[\"location\"][rm_df[\"origin\"] == rm_df[\"location\"]].count()"
   ]
  },
  {
   "cell_type": "code",
   "execution_count": 167,
   "id": "821c79d0",
   "metadata": {},
   "outputs": [
    {
     "data": {
      "text/plain": [
       "458"
      ]
     },
     "execution_count": 167,
     "metadata": {},
     "output_type": "execute_result"
    }
   ],
   "source": [
    "total"
   ]
  },
  {
   "cell_type": "markdown",
   "id": "ec92ecea",
   "metadata": {},
   "source": [
    "<h2>Personajes que más han aparecido</h2>"
   ]
  },
  {
   "cell_type": "code",
   "execution_count": 168,
   "id": "7facb2ea",
   "metadata": {},
   "outputs": [
    {
     "data": {
      "text/html": [
       "<div>\n",
       "<style scoped>\n",
       "    .dataframe tbody tr th:only-of-type {\n",
       "        vertical-align: middle;\n",
       "    }\n",
       "\n",
       "    .dataframe tbody tr th {\n",
       "        vertical-align: top;\n",
       "    }\n",
       "\n",
       "    .dataframe thead th {\n",
       "        text-align: right;\n",
       "    }\n",
       "</style>\n",
       "<table border=\"1\" class=\"dataframe\">\n",
       "  <thead>\n",
       "    <tr style=\"text-align: right;\">\n",
       "      <th></th>\n",
       "      <th>name</th>\n",
       "      <th>number_of_episodes</th>\n",
       "    </tr>\n",
       "    <tr>\n",
       "      <th>id</th>\n",
       "      <th></th>\n",
       "      <th></th>\n",
       "    </tr>\n",
       "  </thead>\n",
       "  <tbody>\n",
       "    <tr>\n",
       "      <th>1</th>\n",
       "      <td>Rick Sanchez</td>\n",
       "      <td>51</td>\n",
       "    </tr>\n",
       "    <tr>\n",
       "      <th>2</th>\n",
       "      <td>Morty Smith</td>\n",
       "      <td>51</td>\n",
       "    </tr>\n",
       "  </tbody>\n",
       "</table>\n",
       "</div>"
      ],
      "text/plain": [
       "            name  number_of_episodes\n",
       "id                                  \n",
       "1   Rick Sanchez                  51\n",
       "2    Morty Smith                  51"
      ]
     },
     "execution_count": 168,
     "metadata": {},
     "output_type": "execute_result"
    }
   ],
   "source": [
    "rm_df[[\"name\", \"number_of_episodes\"]][rm_df[\"number_of_episodes\"] == rm_df[\"number_of_episodes\"].max()]"
   ]
  },
  {
   "cell_type": "markdown",
   "id": "bace7ed5",
   "metadata": {},
   "source": [
    "<h2>Personajes que menos han aparecido</h2>"
   ]
  },
  {
   "cell_type": "code",
   "execution_count": 169,
   "id": "d40823be",
   "metadata": {},
   "outputs": [
    {
     "data": {
      "text/html": [
       "<div>\n",
       "<style scoped>\n",
       "    .dataframe tbody tr th:only-of-type {\n",
       "        vertical-align: middle;\n",
       "    }\n",
       "\n",
       "    .dataframe tbody tr th {\n",
       "        vertical-align: top;\n",
       "    }\n",
       "\n",
       "    .dataframe thead th {\n",
       "        text-align: right;\n",
       "    }\n",
       "</style>\n",
       "<table border=\"1\" class=\"dataframe\">\n",
       "  <thead>\n",
       "    <tr style=\"text-align: right;\">\n",
       "      <th></th>\n",
       "      <th>name</th>\n",
       "      <th>number_of_episodes</th>\n",
       "    </tr>\n",
       "    <tr>\n",
       "      <th>id</th>\n",
       "      <th></th>\n",
       "      <th></th>\n",
       "    </tr>\n",
       "  </thead>\n",
       "  <tbody>\n",
       "    <tr>\n",
       "      <th>6</th>\n",
       "      <td>Abadango Cluster Princess</td>\n",
       "      <td>1</td>\n",
       "    </tr>\n",
       "    <tr>\n",
       "      <th>8</th>\n",
       "      <td>Adjudicator Rick</td>\n",
       "      <td>1</td>\n",
       "    </tr>\n",
       "    <tr>\n",
       "      <th>9</th>\n",
       "      <td>Agency Director</td>\n",
       "      <td>1</td>\n",
       "    </tr>\n",
       "    <tr>\n",
       "      <th>10</th>\n",
       "      <td>Alan Rails</td>\n",
       "      <td>1</td>\n",
       "    </tr>\n",
       "    <tr>\n",
       "      <th>11</th>\n",
       "      <td>Albert Einstein</td>\n",
       "      <td>1</td>\n",
       "    </tr>\n",
       "    <tr>\n",
       "      <th>...</th>\n",
       "      <td>...</td>\n",
       "      <td>...</td>\n",
       "    </tr>\n",
       "    <tr>\n",
       "      <th>822</th>\n",
       "      <td>Young Jerry</td>\n",
       "      <td>1</td>\n",
       "    </tr>\n",
       "    <tr>\n",
       "      <th>823</th>\n",
       "      <td>Young Beth</td>\n",
       "      <td>1</td>\n",
       "    </tr>\n",
       "    <tr>\n",
       "      <th>824</th>\n",
       "      <td>Young Beth</td>\n",
       "      <td>1</td>\n",
       "    </tr>\n",
       "    <tr>\n",
       "      <th>825</th>\n",
       "      <td>Young Jerry</td>\n",
       "      <td>1</td>\n",
       "    </tr>\n",
       "    <tr>\n",
       "      <th>826</th>\n",
       "      <td>Butter Robot</td>\n",
       "      <td>1</td>\n",
       "    </tr>\n",
       "  </tbody>\n",
       "</table>\n",
       "<p>727 rows × 2 columns</p>\n",
       "</div>"
      ],
      "text/plain": [
       "                          name  number_of_episodes\n",
       "id                                                \n",
       "6    Abadango Cluster Princess                   1\n",
       "8             Adjudicator Rick                   1\n",
       "9              Agency Director                   1\n",
       "10                  Alan Rails                   1\n",
       "11             Albert Einstein                   1\n",
       "..                         ...                 ...\n",
       "822                Young Jerry                   1\n",
       "823                 Young Beth                   1\n",
       "824                 Young Beth                   1\n",
       "825                Young Jerry                   1\n",
       "826               Butter Robot                   1\n",
       "\n",
       "[727 rows x 2 columns]"
      ]
     },
     "execution_count": 169,
     "metadata": {},
     "output_type": "execute_result"
    }
   ],
   "source": [
    "rm_df[[\"name\", \"number_of_episodes\"]][rm_df[\"number_of_episodes\"] == rm_df[\"number_of_episodes\"].min()]"
   ]
  },
  {
   "cell_type": "markdown",
   "id": "e6184ef6",
   "metadata": {},
   "source": [
    "<h2>Cuantos personajes por localidad</h2>"
   ]
  },
  {
   "cell_type": "code",
   "execution_count": 170,
   "id": "afde7fc7",
   "metadata": {},
   "outputs": [
    {
     "data": {
      "text/plain": [
       "location\n",
       "Abadango                      1\n",
       "Alien Acid Plant              4\n",
       "Alien Day Spa                 1\n",
       "Alphabetrium                  5\n",
       "Anatomy Park                 11\n",
       "                             ..\n",
       "Worldender's lair             9\n",
       "Z. Q. P. D.                   1\n",
       "Zeep Xanflorp's Miniverse     1\n",
       "Zigerion's Base               4\n",
       "unknown                      21\n",
       "Name: name, Length: 95, dtype: int64"
      ]
     },
     "execution_count": 170,
     "metadata": {},
     "output_type": "execute_result"
    }
   ],
   "source": [
    "rm_df.groupby(\"location\")[\"name\"].count()"
   ]
  },
  {
   "cell_type": "markdown",
   "id": "4df2c8ad",
   "metadata": {},
   "source": [
    "<p>Se verifica repitiendo la fórmula con gender y se obtienen los mismos resultados.</p>"
   ]
  },
  {
   "cell_type": "code",
   "execution_count": 171,
   "id": "b0ed4506",
   "metadata": {},
   "outputs": [
    {
     "data": {
      "text/plain": [
       "gender\n",
       "Female        148\n",
       "Genderless     19\n",
       "Male          610\n",
       "Unknown        49\n",
       "Name: name, dtype: int64"
      ]
     },
     "execution_count": 171,
     "metadata": {},
     "output_type": "execute_result"
    }
   ],
   "source": [
    "rm_df.groupby(\"gender\")[\"name\"].count()"
   ]
  }
 ],
 "metadata": {
  "kernelspec": {
   "display_name": "Python 3 (ipykernel)",
   "language": "python",
   "name": "python3"
  },
  "language_info": {
   "codemirror_mode": {
    "name": "ipython",
    "version": 3
   },
   "file_extension": ".py",
   "mimetype": "text/x-python",
   "name": "python",
   "nbconvert_exporter": "python",
   "pygments_lexer": "ipython3",
   "version": "3.9.11"
  }
 },
 "nbformat": 4,
 "nbformat_minor": 5
}
